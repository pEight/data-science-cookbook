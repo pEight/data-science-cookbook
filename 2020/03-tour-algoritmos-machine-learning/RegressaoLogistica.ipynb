{
 "cells": [
  {
   "cell_type": "markdown",
   "metadata": {},
   "source": [
    "## Implementação de um algoritmo de Regressão Logística\n",
    "### Este implementação foi realizada por Matheus Facure\n",
    "#### fonte: https://github.com/matheusfacure/Tutoriais-de-AM/blob/master/Regress%C3%A3o%20Linear/Regress%C3%A3o%20Log%C3%ADstica.ipynb\n"
   ]
  },
  {
   "cell_type": "code",
   "execution_count": 1,
   "metadata": {},
   "outputs": [
    {
     "name": "stdout",
     "output_type": "stream",
     "text": [
      "Valor de Horas na autoescola     --->  [15 16 18 20 22 24 26 28 30 32 34 36 38 40 42]\n",
      "Acidente (1) ou Sem Acidente (0) --->  [1. 1. 1. 1. 1. 1. 0. 0. 1. 0. 0. 0. 0. 0. 0.]\n"
     ]
    },
    {
     "data": {
      "image/png": "[encoded data removed]",
      "text/plain": [
       "<Figure size 432x288 with 1 Axes>"
      ]
     },
     "metadata": {
      "needs_background": "light"
     },
     "output_type": "display_data"
    },
    {
     "name": "stdout",
     "output_type": "stream",
     "text": [
      "Acurácia:  0.9333333333333333\n",
      "Os pesos do modelos são: 11.764, -0.436\n"
     ]
    }
   ],
   "source": [
    "\n",
    "import numpy as np\n",
    "from matplotlib import pyplot as plt, style\n",
    "from IPython import display\n",
    "\n",
    "class logistic_regr(object):\n",
    "\n",
    "    def __init__(self, learning_rate=0.0001, training_iters=100):\n",
    "        self.learning_rate = learning_rate # taxa de aprendizado\n",
    "        self.training_iters = training_iters # iterações de treino\n",
    "        \n",
    "    \n",
    "    def _logistic(self, X):\n",
    "        '''Função logística'''\n",
    "        return  1 / (1 + np.exp(-np.dot(X, self.w_hat)))\n",
    "    \n",
    "    \n",
    "    def fit(self, X_train, y_train):\n",
    "        \n",
    "        # formata os dados\n",
    "        X = X_train.reshape(-1,1) if len(X_train.shape) < 2 else X_train\n",
    "        X = np.insert(X, 0, 1, 1)\n",
    "               \n",
    "        # inicia os parâmetros com pequenos valores aleatórios (nosso chute razoável)\n",
    "        self.w_hat = np.random.normal(0,1, size = X[0].shape)\n",
    "        \n",
    "        # loop de treinamento\n",
    "        for _ in range(self.training_iters):\n",
    "            \n",
    "            gradient = np.zeros(self.w_hat.shape) # inicia o gradiente\n",
    "            \n",
    "            # atualiza o gradiente com informação de todos os pontos\n",
    "            for var in range(len(gradient)):\n",
    "                gradient[var] += np.dot((self._logistic(X) - y_train), X[:,var])\n",
    "            \n",
    "            gradient *= self.learning_rate # multiplica o gradiente pela taxa de aprendizado\n",
    "\n",
    "            # atualiza os parâmetros\n",
    "            self.w_hat -= gradient\n",
    "            \n",
    "            \n",
    "    def predict(self, X_test):\n",
    "        \n",
    "        # formata os dados\n",
    "        if len(X_test.shape) < 2:\n",
    "            X = X_test.reshape(-1,1)\n",
    "        X = np.insert(X, 0, 1, 1)\n",
    "        \n",
    "        # aplica função logística\n",
    "        logit = self._logistic(X) \n",
    "        \n",
    "        # aplica limiar\n",
    "        return np.greater_equal(logit, 0.5).astype(int)\n",
    "       \n",
    "    \n",
    "\"\"\"Dados de Treinamento \"\"\"\n",
    "x = np.linspace(15,42,15).astype(int)\n",
    "y_logit = x*-0.5 + 15 + np.random.normal(0,1.5, x.shape)\n",
    "y = np.round(np.exp(y_logit) / (np.exp(y_logit) + 1), 0)\n",
    "print('Valor de Horas na autoescola     ---> ',x)\n",
    "print('Acidente (1) ou Sem Acidente (0) ---> ', y)\n",
    "\n",
    "\"\"\" Grafico: Numero de Horas Autoescola x Acidente ocorrido ou não \"\"\"\n",
    "plt.scatter(x, y)\n",
    "plt.xlabel(\"Horas Autoescola\")\n",
    "plt.ylabel(\"Acidente (0 ou 1)\")\n",
    "plt.show()\n",
    "\n",
    "\"\"\"Treinando o Modelo para Regressao Logistica \"\"\"\n",
    "regr = logistic_regr(learning_rate=0.001, training_iters=90000)\n",
    "regr.fit(x, y)\n",
    "\n",
    "\"\"\"Testando a acurácia do modelo\"\"\"\n",
    "x_teste = np.array([1,2,3,4,5,6,107,108,109,110,111,112,113,114,115])\n",
    "y_hat = regr.predict(x_teste)\n",
    "#print('Predicao %.1f horas --> %.1f' % (x_teste[0], y_hat))\n",
    "print('Acurácia: ', np.mean(np.equal(y_hat, y)))\n",
    "print('Os pesos do modelos são: %.3f, %.3f' % (regr.w_hat[0], regr.w_hat[1]))"
   ]
  },
  {
   "cell_type": "code",
   "execution_count": null,
   "metadata": {},
   "outputs": [],
   "source": []
  }
 ],
 "metadata": {
  "kernelspec": {
   "display_name": "Python 3",
   "language": "python",
   "name": "python3"
  },
  "language_info": {
   "codemirror_mode": {
    "name": "ipython",
    "version": 3
   },
   "file_extension": ".py",
   "mimetype": "text/x-python",
   "name": "python",
   "nbconvert_exporter": "python",
   "pygments_lexer": "ipython3",
   "version": "3.8.3"
  }
 },
 "nbformat": 4,
 "nbformat_minor": 4
}
